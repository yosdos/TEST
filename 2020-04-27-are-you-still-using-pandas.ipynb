{
 "cells": [
  {
   "cell_type": "markdown",
   "metadata": {},
   "source": [
    "```\n",
    "python -m pip install \"dask[complete]\"\n",
    "```"
   ]
  },
  {
   "cell_type": "code",
   "execution_count": 2,
   "metadata": {},
   "outputs": [],
   "source": [
    "import pandas as pd"
   ]
  },
  {
   "cell_type": "code",
   "execution_count": 12,
   "metadata": {},
   "outputs": [
    {
     "name": "stdout",
     "output_type": "stream",
     "text": [
      "Generating trainset 1\n",
      "Generating trainset 2\n",
      "Generating trainset 3\n",
      "Generating trainset 4\n",
      "Generating trainset 5\n",
      "Generating trainset 6\n",
      "Generating trainset 7\n",
      "Generating trainset 8\n",
      "Generating trainset 9\n",
      "Generating trainset 10\n"
     ]
    }
   ],
   "source": [
    "from sklearn.datasets import make_classification\n",
    "\n",
    "for i in range(1, 11):\n",
    "    print('Generating trainset %d' % i)\n",
    "    x, y = make_classification(n_samples=100_000, n_features=100)\n",
    "    df = pd.DataFrame(data=x)\n",
    "    df['y'] = y\n",
    "    df.to_csv('trainset_%d.csv' % i, index=False)"
   ]
  },
  {
   "cell_type": "code",
   "execution_count": 27,
   "metadata": {},
   "outputs": [
    {
     "name": "stdout",
     "output_type": "stream",
     "text": [
      "CPU times: user 19.2 s, sys: 1.79 s, total: 21 s\n",
      "Wall time: 21.7 s\n"
     ]
    }
   ],
   "source": [
    "%%time\n",
    "\n",
    "import glob\n",
    "\n",
    "df_list = []\n",
    "for filename in glob.glob('trainset_*.csv'):\n",
    "    df_ = pd.read_csv(filename)\n",
    "    df_list.append(df_)\n",
    "df = pd.concat(df_list)"
   ]
  },
  {
   "cell_type": "code",
   "execution_count": 1,
   "metadata": {},
   "outputs": [],
   "source": [
    "import dask.dataframe as dd"
   ]
  },
  {
   "cell_type": "code",
   "execution_count": 21,
   "metadata": {},
   "outputs": [
    {
     "name": "stdout",
     "output_type": "stream",
     "text": [
      "CPU times: user 154 ms, sys: 58.6 ms, total: 212 ms\n",
      "Wall time: 212 ms\n"
     ]
    }
   ],
   "source": [
    "%%time\n",
    "\n",
    "df = dd.read_csv('trainset_*.csv')"
   ]
  },
  {
   "cell_type": "code",
   "execution_count": 29,
   "metadata": {},
   "outputs": [
    {
     "name": "stdout",
     "output_type": "stream",
     "text": [
      "CPU times: user 45.1 s, sys: 5.09 s, total: 50.2 s\n",
      "Wall time: 8.13 s\n"
     ]
    }
   ],
   "source": [
    "%%time\n",
    "\n",
    "df = dd.read_csv('trainset_*.csv').compute()"
   ]
  },
  {
   "cell_type": "code",
   "execution_count": 25,
   "metadata": {},
   "outputs": [],
   "source": [
    "exec_graph = dd.read_csv('trainset_*.csv')\n",
    "exec_graph.visualize(filename='graph.pdf')"
   ]
  },
  {
   "cell_type": "code",
   "execution_count": 2,
   "metadata": {},
   "outputs": [],
   "source": [
    "Path = 'C:\\\\Users\\\\ayose\\\\GDrive\\\\floods_images\\\\Python\\\\pickle\\\\'\n",
    "All_ScenePoints_described = dd.read_csv(Path+'All_ScenePoints_described.csv')"
   ]
  },
  {
   "cell_type": "code",
   "execution_count": 6,
   "metadata": {},
   "outputs": [
    {
     "data": {
      "text/html": [
       "<div>\n",
       "<style scoped>\n",
       "    .dataframe tbody tr th:only-of-type {\n",
       "        vertical-align: middle;\n",
       "    }\n",
       "\n",
       "    .dataframe tbody tr th {\n",
       "        vertical-align: top;\n",
       "    }\n",
       "\n",
       "    .dataframe thead th {\n",
       "        text-align: right;\n",
       "    }\n",
       "</style>\n",
       "<table border=\"1\" class=\"dataframe\">\n",
       "  <thead>\n",
       "    <tr style=\"text-align: right;\">\n",
       "      <th></th>\n",
       "      <th>Unnamed: 0</th>\n",
       "      <th>count</th>\n",
       "      <th>mean</th>\n",
       "      <th>std</th>\n",
       "      <th>min</th>\n",
       "      <th>10%</th>\n",
       "      <th>20%</th>\n",
       "      <th>30%</th>\n",
       "      <th>40%</th>\n",
       "      <th>50%</th>\n",
       "      <th>60%</th>\n",
       "      <th>70%</th>\n",
       "      <th>80%</th>\n",
       "      <th>90%</th>\n",
       "      <th>max</th>\n",
       "    </tr>\n",
       "  </thead>\n",
       "  <tbody>\n",
       "    <tr>\n",
       "      <th>0</th>\n",
       "      <td>0</td>\n",
       "      <td>76.0</td>\n",
       "      <td>-0.001545</td>\n",
       "      <td>0.030032</td>\n",
       "      <td>-0.051133</td>\n",
       "      <td>-0.034426</td>\n",
       "      <td>-0.028664</td>\n",
       "      <td>-0.023482</td>\n",
       "      <td>-0.012266</td>\n",
       "      <td>-0.003549</td>\n",
       "      <td>0.004770</td>\n",
       "      <td>0.012648</td>\n",
       "      <td>0.018570</td>\n",
       "      <td>0.036756</td>\n",
       "      <td>0.107719</td>\n",
       "    </tr>\n",
       "    <tr>\n",
       "      <th>1</th>\n",
       "      <td>1</td>\n",
       "      <td>76.0</td>\n",
       "      <td>-0.008431</td>\n",
       "      <td>0.027935</td>\n",
       "      <td>-0.057113</td>\n",
       "      <td>-0.043672</td>\n",
       "      <td>-0.030060</td>\n",
       "      <td>-0.027135</td>\n",
       "      <td>-0.016849</td>\n",
       "      <td>-0.006965</td>\n",
       "      <td>-0.004027</td>\n",
       "      <td>0.003272</td>\n",
       "      <td>0.011845</td>\n",
       "      <td>0.024116</td>\n",
       "      <td>0.100450</td>\n",
       "    </tr>\n",
       "    <tr>\n",
       "      <th>2</th>\n",
       "      <td>2</td>\n",
       "      <td>76.0</td>\n",
       "      <td>-0.039397</td>\n",
       "      <td>0.028145</td>\n",
       "      <td>-0.085125</td>\n",
       "      <td>-0.068712</td>\n",
       "      <td>-0.064742</td>\n",
       "      <td>-0.057465</td>\n",
       "      <td>-0.050227</td>\n",
       "      <td>-0.039076</td>\n",
       "      <td>-0.035008</td>\n",
       "      <td>-0.031006</td>\n",
       "      <td>-0.022274</td>\n",
       "      <td>-0.007458</td>\n",
       "      <td>0.061214</td>\n",
       "    </tr>\n",
       "    <tr>\n",
       "      <th>3</th>\n",
       "      <td>3</td>\n",
       "      <td>77.0</td>\n",
       "      <td>-0.036969</td>\n",
       "      <td>0.029176</td>\n",
       "      <td>-0.081219</td>\n",
       "      <td>-0.068284</td>\n",
       "      <td>-0.064312</td>\n",
       "      <td>-0.056271</td>\n",
       "      <td>-0.047153</td>\n",
       "      <td>-0.038888</td>\n",
       "      <td>-0.029139</td>\n",
       "      <td>-0.024884</td>\n",
       "      <td>-0.017802</td>\n",
       "      <td>-0.008176</td>\n",
       "      <td>0.060820</td>\n",
       "    </tr>\n",
       "    <tr>\n",
       "      <th>4</th>\n",
       "      <td>4</td>\n",
       "      <td>76.0</td>\n",
       "      <td>-0.039285</td>\n",
       "      <td>0.031724</td>\n",
       "      <td>-0.089754</td>\n",
       "      <td>-0.072344</td>\n",
       "      <td>-0.065145</td>\n",
       "      <td>-0.061961</td>\n",
       "      <td>-0.056708</td>\n",
       "      <td>-0.038985</td>\n",
       "      <td>-0.032098</td>\n",
       "      <td>-0.024960</td>\n",
       "      <td>-0.018036</td>\n",
       "      <td>-0.009001</td>\n",
       "      <td>0.073647</td>\n",
       "    </tr>\n",
       "  </tbody>\n",
       "</table>\n",
       "</div>"
      ],
      "text/plain": [
       "   Unnamed: 0  count      mean       std       min       10%       20%  \\\n",
       "0           0   76.0 -0.001545  0.030032 -0.051133 -0.034426 -0.028664   \n",
       "1           1   76.0 -0.008431  0.027935 -0.057113 -0.043672 -0.030060   \n",
       "2           2   76.0 -0.039397  0.028145 -0.085125 -0.068712 -0.064742   \n",
       "3           3   77.0 -0.036969  0.029176 -0.081219 -0.068284 -0.064312   \n",
       "4           4   76.0 -0.039285  0.031724 -0.089754 -0.072344 -0.065145   \n",
       "\n",
       "        30%       40%       50%       60%       70%       80%       90%  \\\n",
       "0 -0.023482 -0.012266 -0.003549  0.004770  0.012648  0.018570  0.036756   \n",
       "1 -0.027135 -0.016849 -0.006965 -0.004027  0.003272  0.011845  0.024116   \n",
       "2 -0.057465 -0.050227 -0.039076 -0.035008 -0.031006 -0.022274 -0.007458   \n",
       "3 -0.056271 -0.047153 -0.038888 -0.029139 -0.024884 -0.017802 -0.008176   \n",
       "4 -0.061961 -0.056708 -0.038985 -0.032098 -0.024960 -0.018036 -0.009001   \n",
       "\n",
       "        max  \n",
       "0  0.107719  \n",
       "1  0.100450  \n",
       "2  0.061214  \n",
       "3  0.060820  \n",
       "4  0.073647  "
      ]
     },
     "execution_count": 6,
     "metadata": {},
     "output_type": "execute_result"
    }
   ],
   "source": [
    "All_ScenePoints_described.head()"
   ]
  },
  {
   "cell_type": "code",
   "execution_count": null,
   "metadata": {},
   "outputs": [],
   "source": []
  }
 ],
 "metadata": {
  "kernelspec": {
   "display_name": "Python 3",
   "language": "python",
   "name": "python3"
  },
  "language_info": {
   "codemirror_mode": {
    "name": "ipython",
    "version": 3
   },
   "file_extension": ".py",
   "mimetype": "text/x-python",
   "name": "python",
   "nbconvert_exporter": "python",
   "pygments_lexer": "ipython3",
   "version": "3.8.5"
  }
 },
 "nbformat": 4,
 "nbformat_minor": 4
}
